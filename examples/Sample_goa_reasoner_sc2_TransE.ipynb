{
  "cells": [
    {
      "cell_type": "code",
      "execution_count": null,
      "metadata": {
        "id": "q1B3UINkLSFr"
      },
      "outputs": [],
      "source": [
        "!git clone https://github.com/ozyygen/predict-KGE-TPR.git"
      ],
      "id": "q1B3UINkLSFr"
    },
    {
      "cell_type": "code",
      "execution_count": null,
      "metadata": {
        "id": "Qeqe-_LWa1dl"
      },
      "outputs": [],
      "source": [
        "import os\n",
        "os.chdir(\"/content/predict-KGE-TPR\")"
      ],
      "id": "Qeqe-_LWa1dl"
    },
    {
      "cell_type": "code",
      "execution_count": null,
      "metadata": {
        "id": "utvsYu9sdVv2"
      },
      "outputs": [],
      "source": [
        "%%capture\n",
        "!pip install obonet"
      ],
      "id": "utvsYu9sdVv2"
    },
    {
      "cell_type": "code",
      "execution_count": null,
      "metadata": {
        "id": "a47166b2-a9cd-414d-8931-233f2cc6ce9a"
      },
      "outputs": [],
      "source": [
        "import pandas\n",
        "import src.utils\n",
        "from src.models import TransE\n",
        "from src.model_utils import load_goa_files, generate_GOA_valid_triplets, generate_GOA_train_triplets"
      ],
      "id": "a47166b2-a9cd-414d-8931-233f2cc6ce9a"
    },
    {
      "cell_type": "code",
      "execution_count": null,
      "metadata": {
        "id": "337c6b1e-acb6-4f26-9495-997f05f1d98d"
      },
      "outputs": [],
      "source": [
        "code2rel = dict({'F' :'http://purl.obolibrary.org/obo/GO_0003674',\n",
        "                 'P': 'http://purl.obolibrary.org/obo/GO_0008150',\n",
        "                 'C' :'http://purl.obolibrary.org/obo/GO_0005575'})"
      ],
      "id": "337c6b1e-acb6-4f26-9495-997f05f1d98d"
    },
    {
      "cell_type": "code",
      "execution_count": null,
      "metadata": {
        "id": "JkvjIQ7ibg06"
      },
      "outputs": [],
      "source": [
        "#path for retrieving GOA&GO files and save path\n",
        "ONTO_GDRIVE_PATH = \"/your path\"\n",
        "GOA_DRIVE_PATH   = \"/your path\"\n",
        "\n",
        "SAVE_PATH = \"/your path\""
      ],
      "id": "JkvjIQ7ibg06"
    },
    {
      "cell_type": "code",
      "execution_count": null,
      "metadata": {
        "id": "PH2dXrC0bpGV"
      },
      "outputs": [],
      "source": [
        "spec_version_v1    = \"2017-01-01\"\n",
        "spec_version_v2 = \"2018-01-01\"\n",
        "dataset_date = \"17-18\""
      ],
      "id": "PH2dXrC0bpGV"
    },
    {
      "cell_type": "code",
      "execution_count": null,
      "metadata": {
        "id": "MBu-V13fbrIg"
      },
      "outputs": [],
      "source": [
        "#get 2 GO human annotation version from 2017 to current (2022) each time. Now  \"2017-01-01\" and \"2018-01-01\"\n",
        "#first version will be used for train set\n",
        "triple_df = src.utils.generate_goa_graph(ONTO_GDRIVE_PATH, GOA_DRIVE_PATH, spec_version_v1,1)\n",
        "triple_df.rename({0: 'head', 1: 'relation', 2:'tail'}, axis=1, inplace=True)\n",
        "triple_df.head()"
      ],
      "id": "MBu-V13fbrIg"
    },
    {
      "cell_type": "code",
      "execution_count": null,
      "metadata": {
        "id": "Ann-P4wmb6AX"
      },
      "outputs": [],
      "source": [
        "#define diff for test and valid sets\n",
        "#diff between first and second versions will be used for test and valid set\n",
        "#test and valid sets contain data that follows TPR\n",
        "\n",
        "triple_df = src.utils.generate_goa_graph(ONTO_GDRIVE_PATH,GOA_DRIVE_PATH,spec_version_v1,0)\n",
        "second_df = src.utils.generate_goa_graph(ONTO_GDRIVE_PATH,GOA_DRIVE_PATH,spec_version_v2,0)\n",
        "#read gene ontology\n",
        "graph_go = src.utils.read_gene_ontology(ONTO_GDRIVE_PATH+spec_version_v1)\n",
        "#take entities in V1\n",
        "entities_v1 = src.utils.get_entities(triple_df)\n",
        "\n",
        "#add level 1 train set entity implicit annotations ( hierarchical level 1) into test set\n",
        "level1_data = set()\n",
        "final_sc2_2 = set()\n",
        "\n",
        "diffv2_v1 = second_df.merge(\n",
        "    triple_df, how='outer', indicator=True\n",
        ").query('_merge == \"left_only\"').drop('_merge', 1)\n",
        "level2_data = src.utils.add_level2_semantic(graph_go, diffv2_v1, entities_v1, spec_version_v1)\n",
        "final_sc2_2 = src.utils.final_test_valid_sc2(triple_df,level2_data,graph_go)\n",
        "test, valid = src.utils.split_test_valid(final_sc2_2)\n",
        "#generate txt files\n",
        "src.utils.txt_gen('test.txt',test)\n",
        "src.utils.txt_gen('valid.txt',valid)\n",
        "src.utils.txt_gen(SAVE_PATH+'test_sc2_2'+dataset_date+'.txt',test)\n",
        "src.utils.txt_gen(SAVE_PATH+'valid_sc2_2'+dataset_date+'.txt',valid)"
      ],
      "id": "Ann-P4wmb6AX"
    },
    {
      "cell_type": "code",
      "source": [
        "#add TPR-inferred implicit annotation to train set\n",
        "valid_df = pandas.read_csv('valid.txt',\n",
        "                      header=None, \n",
        "                      names=[\"head\",\"relation\",\"tail\"], \n",
        "                      delimiter=\"\\t\")\n",
        "triple_df = pandas.concat([triple_df,valid_df]).drop_duplicates().reset_index(drop=True)"
      ],
      "metadata": {
        "id": "zxoVqnKcGy7t"
      },
      "id": "zxoVqnKcGy7t",
      "execution_count": null,
      "outputs": []
    },
    {
      "cell_type": "code",
      "execution_count": null,
      "metadata": {
        "id": "Gei2hJdFb0F8"
      },
      "outputs": [],
      "source": [
        "#save train set to Drive folder\n",
        "triple_df.to_csv('train.txt', sep='\\t', index=False,header = False)\n",
        "triple_df.to_csv(SAVE_PATH+'train'+dataset_date+'.txt', sep='\\t', index=False,header = False)"
      ],
      "id": "Gei2hJdFb0F8"
    },
    {
      "cell_type": "markdown",
      "metadata": {
        "id": "f8f29080-2f04-4675-9194-3ba9d1549ebb"
      },
      "source": [
        "### Train and run experiments for TransE with dgl-ke"
      ],
      "id": "f8f29080-2f04-4675-9194-3ba9d1549ebb"
    },
    {
      "cell_type": "code",
      "execution_count": null,
      "metadata": {
        "id": "ADgPu7_F8Mmv"
      },
      "outputs": [],
      "source": [
        "!pip3 uninstall dgl -y\n",
        "!sudo pip3 install dgl==0.4.3\n",
        "!sudo pip3 install dglke"
      ],
      "id": "ADgPu7_F8Mmv"
    },
    {
      "cell_type": "code",
      "execution_count": null,
      "metadata": {
        "id": "i_3gIQ7v1iZr"
      },
      "outputs": [],
      "source": [
        "%%time\n",
        "!DGLBACKEND=pytorch dglke_train --model_name TransE_l1 --dataset goa --batch_size 1000 --log_interval 100 \\\n",
        "--neg_sample_size 200 --regularization_coef=1e-09 --hidden_dim 400 --gamma 19.9 \\\n",
        "--lr 0.25 --gpu 0 --test -adv --max_step 25000  --save_path /content \\\n",
        "--data_path /content/predict-KGE-TPR --format raw_udd_hrt --data_files train.txt valid.txt test.txt"
      ],
      "id": "i_3gIQ7v1iZr"
    }
  ],
  "metadata": {
    "colab": {
      "provenance": []
    },
    "gpuClass": "standard",
    "kernelspec": {
      "display_name": "Python 3.9.13 ('torch')",
      "language": "python",
      "name": "python3"
    },
    "language_info": {
      "codemirror_mode": {
        "name": "ipython",
        "version": 3
      },
      "file_extension": ".py",
      "mimetype": "text/x-python",
      "name": "python",
      "nbconvert_exporter": "python",
      "pygments_lexer": "ipython3",
      "version": "3.9.13"
    },
    "vscode": {
      "interpreter": {
        "hash": "a5e8dc84cac9765ee19fdf49e63142084a7b471ccf436e64e6a9af44ebd63457"
      }
    }
  },
  "nbformat": 4,
  "nbformat_minor": 5
}