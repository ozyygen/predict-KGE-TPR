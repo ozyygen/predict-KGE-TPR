{
 "cells": [
  {
   "cell_type": "code",
   "execution_count": 1,
   "id": "a47166b2-a9cd-414d-8931-233f2cc6ce9a",
   "metadata": {},
   "outputs": [],
   "source": [
    "from src.models import TransE\n",
    "from src.model_utils import load_goa_files, generate_GOA_valid_triplets, generate_GOA_train_triplets"
   ]
  },
  {
   "cell_type": "code",
   "execution_count": 2,
   "id": "b53eba4e-b685-4f38-8447-127054bb61ae",
   "metadata": {},
   "outputs": [],
   "source": [
    "path     = 'GOA_Dataset'  \n",
    "sub_dir  = ''\n",
    "version  = '2019-01-01'"
   ]
  },
  {
   "cell_type": "code",
   "execution_count": 3,
   "id": "337c6b1e-acb6-4f26-9495-997f05f1d98d",
   "metadata": {},
   "outputs": [],
   "source": [
    "code2rel = dict({'F' :'http://purl.obolibrary.org/obo/GO_0003674',\n",
    "                 'P': 'http://purl.obolibrary.org/obo/GO_0008150',\n",
    "                 'C' :'http://purl.obolibrary.org/obo/GO_0005575'})"
   ]
  },
  {
   "cell_type": "markdown",
   "id": "b0df9dd7-8fec-4de8-83b5-83c798129bd0",
   "metadata": {},
   "source": [
    "### Load data"
   ]
  },
  {
   "cell_type": "code",
   "execution_count": 4,
   "id": "29b1f6b6-4eca-4b3e-80af-ceab7cd72fc8",
   "metadata": {},
   "outputs": [],
   "source": [
    "df_train = load_goa_files(path+sub_dir+'/train_'+version+'.txt')"
   ]
  },
  {
   "cell_type": "code",
   "execution_count": 5,
   "id": "d9e70a75-5f7b-48f4-af71-5b37eabc044f",
   "metadata": {},
   "outputs": [],
   "source": [
    "df_tpr = load_goa_files(path+sub_dir+'/valid_sc1_'+version+'.txt')"
   ]
  },
  {
   "cell_type": "code",
   "execution_count": 6,
   "id": "bf3c7ef0",
   "metadata": {},
   "outputs": [],
   "source": [
    "df_test = load_goa_files(path+sub_dir+'/test_sc1_'+version+'.txt')"
   ]
  },
  {
   "cell_type": "markdown",
   "id": "fcf661dc-055a-44ee-8d61-bea9256de6db",
   "metadata": {},
   "source": [
    "### Extract relations"
   ]
  },
  {
   "cell_type": "code",
   "execution_count": 7,
   "id": "05347f68-5710-4272-860f-a5256dc96963",
   "metadata": {},
   "outputs": [],
   "source": [
    "relations = []"
   ]
  },
  {
   "cell_type": "code",
   "execution_count": 8,
   "id": "563b1415-594d-437e-b94c-7032afc028cd",
   "metadata": {},
   "outputs": [],
   "source": [
    "for i,row in df_train.iterrows():\n",
    "    if row['p'] != 'http://www.w3.org/1999/02/22-rdf-syntax-ns#type':\n",
    "        relations.append(row['p'])"
   ]
  },
  {
   "cell_type": "code",
   "execution_count": 9,
   "id": "ebd17d73-f801-4d7d-bc6d-6d4a725ed532",
   "metadata": {},
   "outputs": [
    {
     "data": {
      "text/plain": [
       "165642"
      ]
     },
     "execution_count": 9,
     "metadata": {},
     "output_type": "execute_result"
    }
   ],
   "source": [
    "len(relations)"
   ]
  },
  {
   "cell_type": "code",
   "execution_count": 10,
   "id": "ce6f6a0e-0ecf-4822-b6e1-ac50c40b5962",
   "metadata": {},
   "outputs": [
    {
     "name": "stdout",
     "output_type": "stream",
     "text": [
      "http://purl.obolibrary.org/obo/GO_0005575   37197\n",
      "http://purl.obolibrary.org/obo/GO_0003674   33878\n",
      "http://purl.obolibrary.org/obo/BFO_0000050   29328\n",
      "http://purl.obolibrary.org/obo/GO_0008150   65239\n"
     ]
    }
   ],
   "source": [
    "# show count of each relation\n",
    "for rel in list(set(relations)):\n",
    "    print(rel,' ',len(df_train[df_train['p']==rel]))"
   ]
  },
  {
   "cell_type": "markdown",
   "id": "f8f29080-2f04-4675-9194-3ba9d1549ebb",
   "metadata": {},
   "source": [
    "### Train and run experiments"
   ]
  },
  {
   "cell_type": "code",
   "execution_count": 11,
   "id": "bff9e05b",
   "metadata": {},
   "outputs": [
    {
     "name": "stdout",
     "output_type": "stream",
     "text": [
      "16445 1 33878\n",
      "1461 7888\n",
      "1445 7888\n",
      "epoch 0,\t train loss 1.08\n",
      "epoch 100,\t train loss 1.00\n",
      "epoch 150,\t train loss 0.93\n",
      "epoch 200,\t train loss 0.87\n",
      "epoch 250,\t train loss 0.80\n",
      "epoch 350,\t train loss 0.71\n",
      "epoch 400,\t train loss 0.70\n",
      "epoch 450,\t train loss 0.69\n",
      "hits@1  tensor(0.0256) ,hits@10  tensor(0.2567) ,MR  tensor(23.0048) ,MRR  tensor(0.1089)\n",
      "epoch 0,\t train loss 1.09\n",
      "epoch 50,\t train loss 1.02\n",
      "epoch 100,\t train loss 0.99\n",
      "epoch 150,\t train loss 0.91\n",
      "epoch 200,\t train loss 0.84\n",
      "epoch 250,\t train loss 0.79\n",
      "epoch 300,\t train loss 0.77\n",
      "epoch 350,\t train loss 0.70\n",
      "epoch 400,\t train loss 0.67\n",
      "hits@1  tensor(0.0180) ,hits@10  tensor(0.2941) ,MR  tensor(21.7322) ,MRR  tensor(0.1048)\n"
     ]
    }
   ],
   "source": [
    "# uncomment only one of the following cases\n",
    "\n",
    "combinations = [code2rel['F']]\n",
    "#combinations = [code2rel['P']]\n",
    "#combinations = [code2rel['C']]\n",
    "#combinations = code2rel.values()\n",
    "\n",
    "ret = generate_GOA_train_triplets(combinations,relations,df_train)\n",
    "triplets    = ret[0]\n",
    "rel_count   = ret[1]\n",
    "node_count  = ret[2]\n",
    "node_dict   = ret[3]\n",
    "rels_dict   = ret[4]\n",
    "print(node_count, rel_count, len(triplets))\n",
    "\n",
    "tpr_triplets = generate_GOA_valid_triplets(df_tpr,combinations,node_dict,rels_dict)\n",
    "print(len(tpr_triplets) , len(df_tpr))\n",
    "\n",
    "test_triplets = generate_GOA_valid_triplets(df_test,combinations,node_dict,rels_dict)\n",
    "print(len(test_triplets) , len(df_test))\n",
    "\n",
    "model_TransE  = TransE(node_count,rel_count,emb_dim=400)\n",
    "model_TransE._train(triplets,[],train_batch_size=1000,num_epoches=500);\n",
    "model_TransE._eval(test_triplets)\n",
    "\n",
    "model_TransE  = TransE(node_count,rel_count,emb_dim=400)\n",
    "model_TransE._train(tpr_triplets+triplets,[],train_batch_size=1000,num_epoches=500);\n",
    "model_TransE._eval(test_triplets)"
   ]
  },
  {
   "cell_type": "code",
   "execution_count": 12,
   "id": "0c09f12c",
   "metadata": {},
   "outputs": [
    {
     "name": "stdout",
     "output_type": "stream",
     "text": [
      "23015 1 65239\n",
      "3209 7888\n",
      "3202 7888\n",
      "epoch 50,\t train loss 0.89\n",
      "epoch 100,\t train loss 0.92\n",
      "epoch 150,\t train loss 0.87\n",
      "epoch 250,\t train loss 0.88\n",
      "epoch 300,\t train loss 0.85\n",
      "epoch 350,\t train loss 0.86\n",
      "epoch 400,\t train loss 0.83\n",
      "epoch 450,\t train loss 0.82\n",
      "hits@1  tensor(0.0112) ,hits@10  tensor(0.1555) ,MR  tensor(28.4029) ,MRR  tensor(0.0737)\n",
      "epoch 0,\t train loss 1.06\n",
      "epoch 50,\t train loss 0.89\n",
      "epoch 150,\t train loss 0.89\n",
      "epoch 200,\t train loss 0.81\n",
      "epoch 250,\t train loss 0.87\n",
      "epoch 300,\t train loss 0.83\n",
      "epoch 350,\t train loss 0.82\n",
      "epoch 450,\t train loss 0.81\n",
      "hits@1  tensor(0.0128) ,hits@10  tensor(0.1465) ,MR  tensor(28.9447) ,MRR  tensor(0.0733)\n"
     ]
    }
   ],
   "source": [
    "# uncomment only one of the following cases\n",
    "\n",
    "#combinations = [code2rel['F']]\n",
    "combinations = [code2rel['P']]\n",
    "#combinations = [code2rel['C']]\n",
    "#combinations = code2rel.values()\n",
    "\n",
    "ret = generate_GOA_train_triplets(combinations,relations,df_train)\n",
    "triplets    = ret[0]\n",
    "rel_count   = ret[1]\n",
    "node_count  = ret[2]\n",
    "node_dict   = ret[3]\n",
    "rels_dict   = ret[4]\n",
    "print(node_count, rel_count, len(triplets))\n",
    "\n",
    "tpr_triplets = generate_GOA_valid_triplets(df_tpr,combinations,node_dict,rels_dict)\n",
    "print(len(tpr_triplets) , len(df_tpr))\n",
    "\n",
    "test_triplets = generate_GOA_valid_triplets(df_test,combinations,node_dict,rels_dict)\n",
    "print(len(test_triplets) , len(df_test))\n",
    "\n",
    "model_TransE  = TransE(node_count,rel_count,emb_dim=400)\n",
    "model_TransE._train(triplets,[],train_batch_size=1000,num_epoches=500);\n",
    "model_TransE._eval(test_triplets)\n",
    "\n",
    "model_TransE  = TransE(node_count,rel_count,emb_dim=400)\n",
    "model_TransE._train(tpr_triplets+triplets,[],train_batch_size=1000,num_epoches=500);\n",
    "model_TransE._eval(test_triplets)"
   ]
  },
  {
   "cell_type": "code",
   "execution_count": 13,
   "id": "315dc0b4",
   "metadata": {},
   "outputs": [
    {
     "name": "stdout",
     "output_type": "stream",
     "text": [
      "15817 1 37197\n",
      "2094 7888\n",
      "2115 7888\n",
      "epoch 50,\t train loss 1.07\n",
      "epoch 100,\t train loss 1.02\n",
      "epoch 150,\t train loss 1.00\n",
      "epoch 200,\t train loss 0.92\n",
      "epoch 250,\t train loss 0.90\n",
      "epoch 300,\t train loss 0.82\n",
      "epoch 350,\t train loss 0.80\n",
      "epoch 400,\t train loss 0.77\n",
      "epoch 450,\t train loss 0.76\n",
      "hits@1  tensor(0.0312) ,hits@10  tensor(0.2813) ,MR  tensor(27.9745) ,MRR  tensor(0.1116)\n",
      "epoch 0,\t train loss 1.07\n",
      "epoch 50,\t train loss 1.09\n",
      "epoch 100,\t train loss 1.02\n",
      "epoch 150,\t train loss 1.02\n",
      "epoch 250,\t train loss 0.90\n",
      "epoch 300,\t train loss 0.86\n",
      "epoch 350,\t train loss 0.82\n",
      "epoch 400,\t train loss 0.80\n",
      "epoch 450,\t train loss 0.75\n",
      "hits@1  tensor(0.0199) ,hits@10  tensor(0.2865) ,MR  tensor(26.0681) ,MRR  tensor(0.1046)\n"
     ]
    }
   ],
   "source": [
    "# uncomment only one of the following cases\n",
    "\n",
    "#combinations = [code2rel['F']]\n",
    "#combinations = [code2rel['P']]\n",
    "combinations = [code2rel['C']]\n",
    "#combinations = code2rel.values()\n",
    "\n",
    "ret = generate_GOA_train_triplets(combinations,relations,df_train)\n",
    "triplets    = ret[0]\n",
    "rel_count   = ret[1]\n",
    "node_count  = ret[2]\n",
    "node_dict   = ret[3]\n",
    "rels_dict   = ret[4]\n",
    "print(node_count, rel_count, len(triplets))\n",
    "\n",
    "tpr_triplets = generate_GOA_valid_triplets(df_tpr,combinations,node_dict,rels_dict)\n",
    "print(len(tpr_triplets) , len(df_tpr))\n",
    "\n",
    "test_triplets = generate_GOA_valid_triplets(df_test,combinations,node_dict,rels_dict)\n",
    "print(len(test_triplets) , len(df_test))\n",
    "\n",
    "model_TransE  = TransE(node_count,rel_count,emb_dim=400)\n",
    "model_TransE._train(triplets,[],train_batch_size=1000,num_epoches=500);\n",
    "model_TransE._eval(test_triplets)\n",
    "\n",
    "model_TransE  = TransE(node_count,rel_count,emb_dim=400)\n",
    "model_TransE._train(tpr_triplets+triplets,[],train_batch_size=1000,num_epoches=500);\n",
    "model_TransE._eval(test_triplets)"
   ]
  },
  {
   "cell_type": "code",
   "execution_count": 14,
   "id": "2e841fd0",
   "metadata": {},
   "outputs": [
    {
     "name": "stdout",
     "output_type": "stream",
     "text": [
      "30281 3 136314\n",
      "7609 7888\n",
      "7617 7888\n",
      "epoch 0,\t train loss 1.02\n",
      "epoch 50,\t train loss 0.81\n",
      "epoch 100,\t train loss 0.71\n",
      "epoch 200,\t train loss 0.69\n",
      "epoch 250,\t train loss 0.73\n",
      "epoch 400,\t train loss 0.67\n",
      "epoch 450,\t train loss 0.67\n",
      "hits@1  tensor(0.0121) ,hits@10  tensor(0.1101) ,MR  tensor(37.2691) ,MRR  tensor(0.0597)\n",
      "epoch 0,\t train loss 0.95\n",
      "epoch 50,\t train loss 0.76\n",
      "epoch 100,\t train loss 0.72\n",
      "epoch 150,\t train loss 0.73\n",
      "epoch 200,\t train loss 0.74\n",
      "epoch 250,\t train loss 0.71\n",
      "epoch 300,\t train loss 0.74\n",
      "epoch 350,\t train loss 0.70\n",
      "epoch 400,\t train loss 0.71\n",
      "epoch 450,\t train loss 0.70\n",
      "hits@1  tensor(0.0102) ,hits@10  tensor(0.1233) ,MR  tensor(36.6224) ,MRR  tensor(0.0610)\n"
     ]
    }
   ],
   "source": [
    "# uncomment only one of the following cases\n",
    "\n",
    "#combinations = [code2rel['F']]\n",
    "#combinations = [code2rel['P']]\n",
    "#combinations = [code2rel['C']]\n",
    "combinations = code2rel.values()\n",
    "\n",
    "ret = generate_GOA_train_triplets(combinations,relations,df_train)\n",
    "triplets    = ret[0]\n",
    "rel_count   = ret[1]\n",
    "node_count  = ret[2]\n",
    "node_dict   = ret[3]\n",
    "rels_dict   = ret[4]\n",
    "print(node_count, rel_count, len(triplets))\n",
    "\n",
    "tpr_triplets = generate_GOA_valid_triplets(df_tpr,combinations,node_dict,rels_dict)\n",
    "print(len(tpr_triplets) , len(df_tpr))\n",
    "\n",
    "test_triplets = generate_GOA_valid_triplets(df_test,combinations,node_dict,rels_dict)\n",
    "print(len(test_triplets) , len(df_test))\n",
    "\n",
    "model_TransE  = TransE(node_count,rel_count,emb_dim=400)\n",
    "model_TransE._train(triplets,[],train_batch_size=1000,num_epoches=500);\n",
    "model_TransE._eval(test_triplets)\n",
    "\n",
    "model_TransE  = TransE(node_count,rel_count,emb_dim=400)\n",
    "model_TransE._train(tpr_triplets+triplets,[],train_batch_size=1000,num_epoches=500);\n",
    "model_TransE._eval(test_triplets)"
   ]
  }
 ],
 "metadata": {
  "kernelspec": {
   "display_name": "Python 3.9.13 ('torch')",
   "language": "python",
   "name": "python3"
  },
  "language_info": {
   "codemirror_mode": {
    "name": "ipython",
    "version": 3
   },
   "file_extension": ".py",
   "mimetype": "text/x-python",
   "name": "python",
   "nbconvert_exporter": "python",
   "pygments_lexer": "ipython3",
   "version": "3.9.13"
  },
  "vscode": {
   "interpreter": {
    "hash": "a5e8dc84cac9765ee19fdf49e63142084a7b471ccf436e64e6a9af44ebd63457"
   }
  }
 },
 "nbformat": 4,
 "nbformat_minor": 5
}
