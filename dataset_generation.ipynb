{
  "cells": [
    {
      "cell_type": "markdown",
      "metadata": {
        "id": "o6GeTXfXa7L2"
      },
      "source": [
        "metadata can be found for after 2021 http://geneontology.org/docs/go-annotation-file-gaf-format-2.2/\n",
        "\n",
        "metadata can be found for before 2021 http://geneontology.org/docs/go-annotation-file-gaf-format-2.1/\n",
        "\n",
        "metadata can be found for before 2021 http://geneontology.org/docs/go-annotation-file-gaf-format-2.0/\n",
        "\n",
        "prefixes can be found https://www.ebi.ac.uk/ols/index and http://geneontology.org/docs/sparql"
      ]
    },
    {
      "cell_type": "code",
      "execution_count": 1,
      "metadata": {
        "colab": {
          "base_uri": "https://localhost:8080/"
        },
        "id": "cJb98yQn4ZM5",
        "outputId": "db7bdf01-0fdd-4552-e9b0-d9d16f4af8cd"
      },
      "outputs": [
        {
          "name": "stdout",
          "output_type": "stream",
          "text": [
            "Drive already mounted at /content/drive; to attempt to forcibly remount, call drive.mount(\"/content/drive\", force_remount=True).\n"
          ]
        }
      ],
      "source": [
        "from google.colab import drive\n",
        "drive.mount('/content/drive')"
      ]
    },
    {
      "cell_type": "code",
      "execution_count": 1,
      "metadata": {
        "id": "6lSwYSfAx3ew"
      },
      "outputs": [],
      "source": [
        "%%capture\n",
        "!pip install obonet"
      ]
    },
    {
      "cell_type": "code",
      "execution_count": 2,
      "metadata": {
        "id": "D2ioFMJwxwS9"
      },
      "outputs": [],
      "source": [
        "import  requests\n",
        "from    urllib.request import urlretrieve\n",
        "import  os\n",
        "import  re\n",
        "import  pandas as pd \n",
        "import  numpy as np"
      ]
    },
    {
      "cell_type": "code",
      "execution_count": 3,
      "metadata": {
        "id": "duJPjBZK7Shg"
      },
      "outputs": [],
      "source": [
        "os.chdir('/content/drive/MyDrive/GOA_Dataset/')"
      ]
    },
    {
      "cell_type": "code",
      "execution_count": 5,
      "metadata": {
        "id": "wpEiUvtx41MG"
      },
      "outputs": [],
      "source": [
        "from src import utils"
      ]
    },
    {
      "cell_type": "code",
      "execution_count": 4,
      "metadata": {
        "id": "FOqfWKFLo157"
      },
      "outputs": [],
      "source": [
        "#Gdrive paths for saving train,test,valid sets\n",
        "ONTO_GDRIVE_PATH = \"/content/drive/MyDrive/GOA_Dataset/GO Versions/gene_ontology_\"\n",
        "GOA_DRIVE_PATH   = \"/content/drive/MyDrive/GOA_Dataset/GO_Chicken/goa_chicken-\"\n",
        "\n",
        "SAVE_PATH        \"/content/drive/MyDrive/GOA_Dataset/\""
      ]
    },
    {
      "cell_type": "code",
      "execution_count": 6,
      "metadata": {
        "id": "toYscYn_mYSr"
      },
      "outputs": [],
      "source": [
        "spec_version_v1     = \"2023-32-32\"\n",
        "spec_version_v2     = \"2023-35-35\""
      ]
    },
    {
      "cell_type": "markdown",
      "metadata": {
        "id": "gOVrEUDIZqXJ"
      },
      "source": [
        "# SCENARIO 1: Only newly added annotations in test and valid sets"
      ]
    },
    {
      "cell_type": "code",
      "execution_count": 7,
      "metadata": {
        "colab": {
          "base_uri": "https://localhost:8080/",
          "height": 204
        },
        "id": "v2RKXDaKDOjj",
        "outputId": "99960d1a-a448-4e5b-f138-73b7d5b842a0"
      },
      "outputs": [
        {
          "data": {
            "text/html": [
              "\n",
              "  <div id=\"df-164e1106-a705-4008-bd75-a831dd8795bb\">\n",
              "    <div class=\"colab-df-container\">\n",
              "      <div>\n",
              "<style scoped>\n",
              "    .dataframe tbody tr th:only-of-type {\n",
              "        vertical-align: middle;\n",
              "    }\n",
              "\n",
              "    .dataframe tbody tr th {\n",
              "        vertical-align: top;\n",
              "    }\n",
              "\n",
              "    .dataframe thead th {\n",
              "        text-align: right;\n",
              "    }\n",
              "</style>\n",
              "<table border=\"1\" class=\"dataframe\">\n",
              "  <thead>\n",
              "    <tr style=\"text-align: right;\">\n",
              "      <th></th>\n",
              "      <th>head</th>\n",
              "      <th>relation</th>\n",
              "      <th>tail</th>\n",
              "    </tr>\n",
              "  </thead>\n",
              "  <tbody>\n",
              "    <tr>\n",
              "      <th>0</th>\n",
              "      <td>https://www.uniprot.org/uniprot/X1</td>\n",
              "      <td>http://purl.obolibrary.org/obo/GO_0003674</td>\n",
              "      <td>http://purl.obolibrary.org/obo/g8</td>\n",
              "    </tr>\n",
              "    <tr>\n",
              "      <th>1</th>\n",
              "      <td>https://www.uniprot.org/uniprot/X2</td>\n",
              "      <td>http://purl.obolibrary.org/obo/GO_0005575</td>\n",
              "      <td>http://purl.obolibrary.org/obo/g9</td>\n",
              "    </tr>\n",
              "    <tr>\n",
              "      <th>2</th>\n",
              "      <td>https://www.uniprot.org/uniprot/X3</td>\n",
              "      <td>http://purl.obolibrary.org/obo/GO_0008150</td>\n",
              "      <td>http://purl.obolibrary.org/obo/g5</td>\n",
              "    </tr>\n",
              "    <tr>\n",
              "      <th>3</th>\n",
              "      <td>https://www.uniprot.org/uniprot/X4</td>\n",
              "      <td>http://purl.obolibrary.org/obo/GO_0008150</td>\n",
              "      <td>http://purl.obolibrary.org/obo/g4</td>\n",
              "    </tr>\n",
              "    <tr>\n",
              "      <th>4</th>\n",
              "      <td>http://purl.obolibrary.org/obo/g8</td>\n",
              "      <td>http://www.w3.org/1999/02/22-rdf-syntax-ns#type</td>\n",
              "      <td>http://purl.obolibrary.org/obo/g4</td>\n",
              "    </tr>\n",
              "  </tbody>\n",
              "</table>\n",
              "</div>\n",
              "      <button class=\"colab-df-convert\" onclick=\"convertToInteractive('df-164e1106-a705-4008-bd75-a831dd8795bb')\"\n",
              "              title=\"Convert this dataframe to an interactive table.\"\n",
              "              style=\"display:none;\">\n",
              "        \n",
              "  <svg xmlns=\"http://www.w3.org/2000/svg\" height=\"24px\"viewBox=\"0 0 24 24\"\n",
              "       width=\"24px\">\n",
              "    <path d=\"M0 0h24v24H0V0z\" fill=\"none\"/>\n",
              "    <path d=\"M18.56 5.44l.94 2.06.94-2.06 2.06-.94-2.06-.94-.94-2.06-.94 2.06-2.06.94zm-11 1L8.5 8.5l.94-2.06 2.06-.94-2.06-.94L8.5 2.5l-.94 2.06-2.06.94zm10 10l.94 2.06.94-2.06 2.06-.94-2.06-.94-.94-2.06-.94 2.06-2.06.94z\"/><path d=\"M17.41 7.96l-1.37-1.37c-.4-.4-.92-.59-1.43-.59-.52 0-1.04.2-1.43.59L10.3 9.45l-7.72 7.72c-.78.78-.78 2.05 0 2.83L4 21.41c.39.39.9.59 1.41.59.51 0 1.02-.2 1.41-.59l7.78-7.78 2.81-2.81c.8-.78.8-2.07 0-2.86zM5.41 20L4 18.59l7.72-7.72 1.47 1.35L5.41 20z\"/>\n",
              "  </svg>\n",
              "      </button>\n",
              "      \n",
              "  <style>\n",
              "    .colab-df-container {\n",
              "      display:flex;\n",
              "      flex-wrap:wrap;\n",
              "      gap: 12px;\n",
              "    }\n",
              "\n",
              "    .colab-df-convert {\n",
              "      background-color: #E8F0FE;\n",
              "      border: none;\n",
              "      border-radius: 50%;\n",
              "      cursor: pointer;\n",
              "      display: none;\n",
              "      fill: #1967D2;\n",
              "      height: 32px;\n",
              "      padding: 0 0 0 0;\n",
              "      width: 32px;\n",
              "    }\n",
              "\n",
              "    .colab-df-convert:hover {\n",
              "      background-color: #E2EBFA;\n",
              "      box-shadow: 0px 1px 2px rgba(60, 64, 67, 0.3), 0px 1px 3px 1px rgba(60, 64, 67, 0.15);\n",
              "      fill: #174EA6;\n",
              "    }\n",
              "\n",
              "    [theme=dark] .colab-df-convert {\n",
              "      background-color: #3B4455;\n",
              "      fill: #D2E3FC;\n",
              "    }\n",
              "\n",
              "    [theme=dark] .colab-df-convert:hover {\n",
              "      background-color: #434B5C;\n",
              "      box-shadow: 0px 1px 3px 1px rgba(0, 0, 0, 0.15);\n",
              "      filter: drop-shadow(0px 1px 2px rgba(0, 0, 0, 0.3));\n",
              "      fill: #FFFFFF;\n",
              "    }\n",
              "  </style>\n",
              "\n",
              "      <script>\n",
              "        const buttonEl =\n",
              "          document.querySelector('#df-164e1106-a705-4008-bd75-a831dd8795bb button.colab-df-convert');\n",
              "        buttonEl.style.display =\n",
              "          google.colab.kernel.accessAllowed ? 'block' : 'none';\n",
              "\n",
              "        async function convertToInteractive(key) {\n",
              "          const element = document.querySelector('#df-164e1106-a705-4008-bd75-a831dd8795bb');\n",
              "          const dataTable =\n",
              "            await google.colab.kernel.invokeFunction('convertToInteractive',\n",
              "                                                     [key], {});\n",
              "          if (!dataTable) return;\n",
              "\n",
              "          const docLinkHtml = 'Like what you see? Visit the ' +\n",
              "            '<a target=\"_blank\" href=https://colab.research.google.com/notebooks/data_table.ipynb>data table notebook</a>'\n",
              "            + ' to learn more about interactive tables.';\n",
              "          element.innerHTML = '';\n",
              "          dataTable['output_type'] = 'display_data';\n",
              "          await google.colab.output.renderOutput(dataTable, element);\n",
              "          const docLink = document.createElement('div');\n",
              "          docLink.innerHTML = docLinkHtml;\n",
              "          element.appendChild(docLink);\n",
              "        }\n",
              "      </script>\n",
              "    </div>\n",
              "  </div>\n",
              "  "
            ],
            "text/plain": [
              "                                 head  \\\n",
              "0  https://www.uniprot.org/uniprot/X1   \n",
              "1  https://www.uniprot.org/uniprot/X2   \n",
              "2  https://www.uniprot.org/uniprot/X3   \n",
              "3  https://www.uniprot.org/uniprot/X4   \n",
              "4   http://purl.obolibrary.org/obo/g8   \n",
              "\n",
              "                                          relation  \\\n",
              "0        http://purl.obolibrary.org/obo/GO_0003674   \n",
              "1        http://purl.obolibrary.org/obo/GO_0005575   \n",
              "2        http://purl.obolibrary.org/obo/GO_0008150   \n",
              "3        http://purl.obolibrary.org/obo/GO_0008150   \n",
              "4  http://www.w3.org/1999/02/22-rdf-syntax-ns#type   \n",
              "\n",
              "                                tail  \n",
              "0  http://purl.obolibrary.org/obo/g8  \n",
              "1  http://purl.obolibrary.org/obo/g9  \n",
              "2  http://purl.obolibrary.org/obo/g5  \n",
              "3  http://purl.obolibrary.org/obo/g4  \n",
              "4  http://purl.obolibrary.org/obo/g4  "
            ]
          },
          "execution_count": 7,
          "metadata": {},
          "output_type": "execute_result"
        }
      ],
      "source": [
        "#get 2 GO human annotation version from 2017 to current (2022) each time. Now  \"2017-01-01\" and \"2018-01-01\"\n",
        "#first version will be used for train set\n",
        "triple_df = utils.generate_goa_graph(ONTO_GDRIVE_PATH, GOA_DRIVE_PATH, spec_version_v1,1)\n",
        "triple_df.rename({0: 'head', 1: 'relation', 2:'tail'}, axis=1, inplace=True)\n",
        "triple_df.head()"
      ]
    },
    {
      "cell_type": "code",
      "execution_count": 8,
      "metadata": {
        "id": "v_nPGPCNBZ3B"
      },
      "outputs": [],
      "source": [
        "#save train set to Drive folder\n",
        "triple_df.to_csv(SAVE_PATH+'train.txt', sep='\\t', index=False,header = False)"
      ]
    },
    {
      "cell_type": "code",
      "execution_count": 9,
      "metadata": {
        "id": "akXc-wS1ADpE"
      },
      "outputs": [],
      "source": [
        "#take entities in V1\n",
        "entities_v1 = utils.get_entities(triple_df)"
      ]
    },
    {
      "cell_type": "code",
      "execution_count": 10,
      "metadata": {
        "colab": {
          "base_uri": "https://localhost:8080/",
          "height": 173
        },
        "id": "Wnvv0PoTBIUJ",
        "outputId": "f56b46e2-9350-48f5-f233-6fc83472898a"
      },
      "outputs": [
        {
          "data": {
            "text/html": [
              "\n",
              "  <div id=\"df-dc13fa05-b905-44b1-aba4-664e93d7ac2a\">\n",
              "    <div class=\"colab-df-container\">\n",
              "      <div>\n",
              "<style scoped>\n",
              "    .dataframe tbody tr th:only-of-type {\n",
              "        vertical-align: middle;\n",
              "    }\n",
              "\n",
              "    .dataframe tbody tr th {\n",
              "        vertical-align: top;\n",
              "    }\n",
              "\n",
              "    .dataframe thead th {\n",
              "        text-align: right;\n",
              "    }\n",
              "</style>\n",
              "<table border=\"1\" class=\"dataframe\">\n",
              "  <thead>\n",
              "    <tr style=\"text-align: right;\">\n",
              "      <th></th>\n",
              "      <th>head</th>\n",
              "      <th>relation</th>\n",
              "      <th>tail</th>\n",
              "    </tr>\n",
              "  </thead>\n",
              "  <tbody>\n",
              "    <tr>\n",
              "      <th>0</th>\n",
              "      <td>https://www.uniprot.org/uniprot/X1</td>\n",
              "      <td>http://purl.obolibrary.org/obo/GO_0003674</td>\n",
              "      <td>http://purl.obolibrary.org/obo/g8</td>\n",
              "    </tr>\n",
              "    <tr>\n",
              "      <th>1</th>\n",
              "      <td>https://www.uniprot.org/uniprot/X2</td>\n",
              "      <td>http://purl.obolibrary.org/obo/GO_0005575</td>\n",
              "      <td>http://purl.obolibrary.org/obo/g9</td>\n",
              "    </tr>\n",
              "    <tr>\n",
              "      <th>2</th>\n",
              "      <td>https://www.uniprot.org/uniprot/X3</td>\n",
              "      <td>http://purl.obolibrary.org/obo/GO_0008150</td>\n",
              "      <td>http://purl.obolibrary.org/obo/g8</td>\n",
              "    </tr>\n",
              "    <tr>\n",
              "      <th>3</th>\n",
              "      <td>https://www.uniprot.org/uniprot/X4</td>\n",
              "      <td>http://purl.obolibrary.org/obo/GO_0008150</td>\n",
              "      <td>http://purl.obolibrary.org/obo/g5</td>\n",
              "    </tr>\n",
              "  </tbody>\n",
              "</table>\n",
              "</div>\n",
              "      <button class=\"colab-df-convert\" onclick=\"convertToInteractive('df-dc13fa05-b905-44b1-aba4-664e93d7ac2a')\"\n",
              "              title=\"Convert this dataframe to an interactive table.\"\n",
              "              style=\"display:none;\">\n",
              "        \n",
              "  <svg xmlns=\"http://www.w3.org/2000/svg\" height=\"24px\"viewBox=\"0 0 24 24\"\n",
              "       width=\"24px\">\n",
              "    <path d=\"M0 0h24v24H0V0z\" fill=\"none\"/>\n",
              "    <path d=\"M18.56 5.44l.94 2.06.94-2.06 2.06-.94-2.06-.94-.94-2.06-.94 2.06-2.06.94zm-11 1L8.5 8.5l.94-2.06 2.06-.94-2.06-.94L8.5 2.5l-.94 2.06-2.06.94zm10 10l.94 2.06.94-2.06 2.06-.94-2.06-.94-.94-2.06-.94 2.06-2.06.94z\"/><path d=\"M17.41 7.96l-1.37-1.37c-.4-.4-.92-.59-1.43-.59-.52 0-1.04.2-1.43.59L10.3 9.45l-7.72 7.72c-.78.78-.78 2.05 0 2.83L4 21.41c.39.39.9.59 1.41.59.51 0 1.02-.2 1.41-.59l7.78-7.78 2.81-2.81c.8-.78.8-2.07 0-2.86zM5.41 20L4 18.59l7.72-7.72 1.47 1.35L5.41 20z\"/>\n",
              "  </svg>\n",
              "      </button>\n",
              "      \n",
              "  <style>\n",
              "    .colab-df-container {\n",
              "      display:flex;\n",
              "      flex-wrap:wrap;\n",
              "      gap: 12px;\n",
              "    }\n",
              "\n",
              "    .colab-df-convert {\n",
              "      background-color: #E8F0FE;\n",
              "      border: none;\n",
              "      border-radius: 50%;\n",
              "      cursor: pointer;\n",
              "      display: none;\n",
              "      fill: #1967D2;\n",
              "      height: 32px;\n",
              "      padding: 0 0 0 0;\n",
              "      width: 32px;\n",
              "    }\n",
              "\n",
              "    .colab-df-convert:hover {\n",
              "      background-color: #E2EBFA;\n",
              "      box-shadow: 0px 1px 2px rgba(60, 64, 67, 0.3), 0px 1px 3px 1px rgba(60, 64, 67, 0.15);\n",
              "      fill: #174EA6;\n",
              "    }\n",
              "\n",
              "    [theme=dark] .colab-df-convert {\n",
              "      background-color: #3B4455;\n",
              "      fill: #D2E3FC;\n",
              "    }\n",
              "\n",
              "    [theme=dark] .colab-df-convert:hover {\n",
              "      background-color: #434B5C;\n",
              "      box-shadow: 0px 1px 3px 1px rgba(0, 0, 0, 0.15);\n",
              "      filter: drop-shadow(0px 1px 2px rgba(0, 0, 0, 0.3));\n",
              "      fill: #FFFFFF;\n",
              "    }\n",
              "  </style>\n",
              "\n",
              "      <script>\n",
              "        const buttonEl =\n",
              "          document.querySelector('#df-dc13fa05-b905-44b1-aba4-664e93d7ac2a button.colab-df-convert');\n",
              "        buttonEl.style.display =\n",
              "          google.colab.kernel.accessAllowed ? 'block' : 'none';\n",
              "\n",
              "        async function convertToInteractive(key) {\n",
              "          const element = document.querySelector('#df-dc13fa05-b905-44b1-aba4-664e93d7ac2a');\n",
              "          const dataTable =\n",
              "            await google.colab.kernel.invokeFunction('convertToInteractive',\n",
              "                                                     [key], {});\n",
              "          if (!dataTable) return;\n",
              "\n",
              "          const docLinkHtml = 'Like what you see? Visit the ' +\n",
              "            '<a target=\"_blank\" href=https://colab.research.google.com/notebooks/data_table.ipynb>data table notebook</a>'\n",
              "            + ' to learn more about interactive tables.';\n",
              "          element.innerHTML = '';\n",
              "          dataTable['output_type'] = 'display_data';\n",
              "          await google.colab.output.renderOutput(dataTable, element);\n",
              "          const docLink = document.createElement('div');\n",
              "          docLink.innerHTML = docLinkHtml;\n",
              "          element.appendChild(docLink);\n",
              "        }\n",
              "      </script>\n",
              "    </div>\n",
              "  </div>\n",
              "  "
            ],
            "text/plain": [
              "                                 head  \\\n",
              "0  https://www.uniprot.org/uniprot/X1   \n",
              "1  https://www.uniprot.org/uniprot/X2   \n",
              "2  https://www.uniprot.org/uniprot/X3   \n",
              "3  https://www.uniprot.org/uniprot/X4   \n",
              "\n",
              "                                    relation  \\\n",
              "0  http://purl.obolibrary.org/obo/GO_0003674   \n",
              "1  http://purl.obolibrary.org/obo/GO_0005575   \n",
              "2  http://purl.obolibrary.org/obo/GO_0008150   \n",
              "3  http://purl.obolibrary.org/obo/GO_0008150   \n",
              "\n",
              "                                tail  \n",
              "0  http://purl.obolibrary.org/obo/g8  \n",
              "1  http://purl.obolibrary.org/obo/g9  \n",
              "2  http://purl.obolibrary.org/obo/g8  \n",
              "3  http://purl.obolibrary.org/obo/g5  "
            ]
          },
          "execution_count": 10,
          "metadata": {},
          "output_type": "execute_result"
        }
      ],
      "source": [
        "#take V2 graph\n",
        "second_df = utils.generate_goa_graph(ONTO_GDRIVE_PATH,GOA_DRIVE_PATH, spec_version_v2,0)\n",
        "second_df.rename({0: 'head', 1: 'relation', 2:'tail'}, axis=1, inplace=True)\n",
        "second_df.head()"
      ]
    },
    {
      "cell_type": "code",
      "execution_count": 11,
      "metadata": {
        "colab": {
          "base_uri": "https://localhost:8080/",
          "height": 168
        },
        "id": "1Fbb8SX-FUfk",
        "outputId": "8c39e658-1573-4294-968c-740c0430154a"
      },
      "outputs": [
        {
          "name": "stdout",
          "output_type": "stream",
          "text": [
            "V2 different triple count:  2\n",
            "different triples with existed entities 2\n"
          ]
        },
        {
          "name": "stderr",
          "output_type": "stream",
          "text": [
            "/content/drive/MyDrive/GOA_Dataset/src/utils.py:146: FutureWarning: In a future version of pandas all arguments of DataFrame.drop except for the argument 'labels' will be keyword-only\n",
            "  ).query('_merge == \"left_only\"').drop('_merge', 1)\n"
          ]
        },
        {
          "data": {
            "text/html": [
              "\n",
              "  <div id=\"df-aac1e730-13a2-4b83-9d94-b943a01e624f\">\n",
              "    <div class=\"colab-df-container\">\n",
              "      <div>\n",
              "<style scoped>\n",
              "    .dataframe tbody tr th:only-of-type {\n",
              "        vertical-align: middle;\n",
              "    }\n",
              "\n",
              "    .dataframe tbody tr th {\n",
              "        vertical-align: top;\n",
              "    }\n",
              "\n",
              "    .dataframe thead th {\n",
              "        text-align: right;\n",
              "    }\n",
              "</style>\n",
              "<table border=\"1\" class=\"dataframe\">\n",
              "  <thead>\n",
              "    <tr style=\"text-align: right;\">\n",
              "      <th></th>\n",
              "      <th>0</th>\n",
              "      <th>1</th>\n",
              "      <th>2</th>\n",
              "    </tr>\n",
              "  </thead>\n",
              "  <tbody>\n",
              "    <tr>\n",
              "      <th>0</th>\n",
              "      <td>https://www.uniprot.org/uniprot/X3</td>\n",
              "      <td>http://purl.obolibrary.org/obo/GO_0008150</td>\n",
              "      <td>http://purl.obolibrary.org/obo/g8</td>\n",
              "    </tr>\n",
              "  </tbody>\n",
              "</table>\n",
              "</div>\n",
              "      <button class=\"colab-df-convert\" onclick=\"convertToInteractive('df-aac1e730-13a2-4b83-9d94-b943a01e624f')\"\n",
              "              title=\"Convert this dataframe to an interactive table.\"\n",
              "              style=\"display:none;\">\n",
              "        \n",
              "  <svg xmlns=\"http://www.w3.org/2000/svg\" height=\"24px\"viewBox=\"0 0 24 24\"\n",
              "       width=\"24px\">\n",
              "    <path d=\"M0 0h24v24H0V0z\" fill=\"none\"/>\n",
              "    <path d=\"M18.56 5.44l.94 2.06.94-2.06 2.06-.94-2.06-.94-.94-2.06-.94 2.06-2.06.94zm-11 1L8.5 8.5l.94-2.06 2.06-.94-2.06-.94L8.5 2.5l-.94 2.06-2.06.94zm10 10l.94 2.06.94-2.06 2.06-.94-2.06-.94-.94-2.06-.94 2.06-2.06.94z\"/><path d=\"M17.41 7.96l-1.37-1.37c-.4-.4-.92-.59-1.43-.59-.52 0-1.04.2-1.43.59L10.3 9.45l-7.72 7.72c-.78.78-.78 2.05 0 2.83L4 21.41c.39.39.9.59 1.41.59.51 0 1.02-.2 1.41-.59l7.78-7.78 2.81-2.81c.8-.78.8-2.07 0-2.86zM5.41 20L4 18.59l7.72-7.72 1.47 1.35L5.41 20z\"/>\n",
              "  </svg>\n",
              "      </button>\n",
              "      \n",
              "  <style>\n",
              "    .colab-df-container {\n",
              "      display:flex;\n",
              "      flex-wrap:wrap;\n",
              "      gap: 12px;\n",
              "    }\n",
              "\n",
              "    .colab-df-convert {\n",
              "      background-color: #E8F0FE;\n",
              "      border: none;\n",
              "      border-radius: 50%;\n",
              "      cursor: pointer;\n",
              "      display: none;\n",
              "      fill: #1967D2;\n",
              "      height: 32px;\n",
              "      padding: 0 0 0 0;\n",
              "      width: 32px;\n",
              "    }\n",
              "\n",
              "    .colab-df-convert:hover {\n",
              "      background-color: #E2EBFA;\n",
              "      box-shadow: 0px 1px 2px rgba(60, 64, 67, 0.3), 0px 1px 3px 1px rgba(60, 64, 67, 0.15);\n",
              "      fill: #174EA6;\n",
              "    }\n",
              "\n",
              "    [theme=dark] .colab-df-convert {\n",
              "      background-color: #3B4455;\n",
              "      fill: #D2E3FC;\n",
              "    }\n",
              "\n",
              "    [theme=dark] .colab-df-convert:hover {\n",
              "      background-color: #434B5C;\n",
              "      box-shadow: 0px 1px 3px 1px rgba(0, 0, 0, 0.15);\n",
              "      filter: drop-shadow(0px 1px 2px rgba(0, 0, 0, 0.3));\n",
              "      fill: #FFFFFF;\n",
              "    }\n",
              "  </style>\n",
              "\n",
              "      <script>\n",
              "        const buttonEl =\n",
              "          document.querySelector('#df-aac1e730-13a2-4b83-9d94-b943a01e624f button.colab-df-convert');\n",
              "        buttonEl.style.display =\n",
              "          google.colab.kernel.accessAllowed ? 'block' : 'none';\n",
              "\n",
              "        async function convertToInteractive(key) {\n",
              "          const element = document.querySelector('#df-aac1e730-13a2-4b83-9d94-b943a01e624f');\n",
              "          const dataTable =\n",
              "            await google.colab.kernel.invokeFunction('convertToInteractive',\n",
              "                                                     [key], {});\n",
              "          if (!dataTable) return;\n",
              "\n",
              "          const docLinkHtml = 'Like what you see? Visit the ' +\n",
              "            '<a target=\"_blank\" href=https://colab.research.google.com/notebooks/data_table.ipynb>data table notebook</a>'\n",
              "            + ' to learn more about interactive tables.';\n",
              "          element.innerHTML = '';\n",
              "          dataTable['output_type'] = 'display_data';\n",
              "          await google.colab.output.renderOutput(dataTable, element);\n",
              "          const docLink = document.createElement('div');\n",
              "          docLink.innerHTML = docLinkHtml;\n",
              "          element.appendChild(docLink);\n",
              "        }\n",
              "      </script>\n",
              "    </div>\n",
              "  </div>\n",
              "  "
            ],
            "text/plain": [
              "                                    0  \\\n",
              "0  https://www.uniprot.org/uniprot/X3   \n",
              "\n",
              "                                           1  \\\n",
              "0  http://purl.obolibrary.org/obo/GO_0008150   \n",
              "\n",
              "                                   2  \n",
              "0  http://purl.obolibrary.org/obo/g8  "
            ]
          },
          "execution_count": 11,
          "metadata": {},
          "output_type": "execute_result"
        }
      ],
      "source": [
        "#define diff for test and valid sets\n",
        "#diff between first and second versions will be used for test and valid set\n",
        "diffv2_v1_ex  = utils.generate_test_valid(triple_df,second_df, entities_v1)\n",
        "df_test, df_valid = utils.split_test_valid(diffv2_v1_ex)\n",
        "#generate txt files\n",
        "utils.txt_gen(SAVE_PATH+'test_sc1.txt',df_test)\n",
        "utils.txt_gen(SAVE_PATH+'valid_sc1.txt',df_valid)"
      ]
    },
    {
      "cell_type": "markdown",
      "metadata": {
        "id": "UGe_AwwmVsuI"
      },
      "source": [
        "# SCENARIO 2: novel annotations + implict annotation (from True path rule)"
      ]
    },
    {
      "cell_type": "code",
      "execution_count": 13,
      "metadata": {
        "id": "2HRIN80kVYx9"
      },
      "outputs": [],
      "source": [
        "#test and valid sets now contain data that fits TPR\n",
        "#train set will remain the same\n",
        "triple_df = utils.generate_goa_graph(ONTO_GDRIVE_PATH,GOA_DRIVE_PATH,spec_version_v1,0)\n",
        "second_df = utils.generate_goa_graph(ONTO_GDRIVE_PATH,GOA_DRIVE_PATH,spec_version_v2,0)\n",
        "#read gene ontology\n",
        "graph_go = utils.read_gene_ontology(ONTO_GDRIVE_PATH+spec_version_v1)"
      ]
    },
    {
      "cell_type": "code",
      "execution_count": 14,
      "metadata": {
        "id": "DIRb7KbE6jPJ"
      },
      "outputs": [],
      "source": [
        "#take entities in V1\n",
        "entities_v1 = utils.get_entities(triple_df)"
      ]
    },
    {
      "cell_type": "markdown",
      "metadata": {
        "id": "-n_XqwRnThmg"
      },
      "source": [
        "**First test and valid set case:** Level 1 hierarchical depth of implicit annotations for test and valid sets"
      ]
    },
    {
      "cell_type": "code",
      "execution_count": 15,
      "metadata": {
        "colab": {
          "base_uri": "https://localhost:8080/"
        },
        "id": "0S4uDCWeZY6E",
        "outputId": "04fefef4-1d47-4391-eba5-9c91ca43a3fd"
      },
      "outputs": [
        {
          "name": "stderr",
          "output_type": "stream",
          "text": [
            "/content/drive/MyDrive/GOA_Dataset/src/utils.py:196: FutureWarning: In a future version of pandas all arguments of DataFrame.drop except for the argument 'labels' will be keyword-only\n",
            "  ).query('_merge == \"left_only\"').drop('_merge', 1)\n"
          ]
        }
      ],
      "source": [
        "#Level 1: Use levels as hyperparameters (such as 1,2 or 3)\n",
        "#add level 1 train set entity implicit annotations ( hierarchical level 1) into test set\n",
        "level1_data = set()\n",
        "final_sc2_1 = set()\n",
        "level1_data = utils.add_level1_semantic(graph_go, triple_df,second_df,spec_version_v1,entities_v1)\n",
        "final_sc2_1 = utils.final_test_valid_sc2(triple_df,level1_data,graph_go)"
      ]
    },
    {
      "cell_type": "code",
      "execution_count": 16,
      "metadata": {
        "colab": {
          "base_uri": "https://localhost:8080/",
          "height": 111
        },
        "id": "tu2sIey9ZW3O",
        "outputId": "ca861491-509e-4fcf-f268-98007a11872e"
      },
      "outputs": [
        {
          "data": {
            "text/html": [
              "\n",
              "  <div id=\"df-afe62aff-ff9a-4788-aa9d-1b314153ad5f\">\n",
              "    <div class=\"colab-df-container\">\n",
              "      <div>\n",
              "<style scoped>\n",
              "    .dataframe tbody tr th:only-of-type {\n",
              "        vertical-align: middle;\n",
              "    }\n",
              "\n",
              "    .dataframe tbody tr th {\n",
              "        vertical-align: top;\n",
              "    }\n",
              "\n",
              "    .dataframe thead th {\n",
              "        text-align: right;\n",
              "    }\n",
              "</style>\n",
              "<table border=\"1\" class=\"dataframe\">\n",
              "  <thead>\n",
              "    <tr style=\"text-align: right;\">\n",
              "      <th></th>\n",
              "      <th>0</th>\n",
              "      <th>1</th>\n",
              "      <th>2</th>\n",
              "    </tr>\n",
              "  </thead>\n",
              "  <tbody>\n",
              "    <tr>\n",
              "      <th>0</th>\n",
              "      <td>https://www.uniprot.org/uniprot/X3</td>\n",
              "      <td>http://purl.obolibrary.org/obo/GO_0008150</td>\n",
              "      <td>http://purl.obolibrary.org/obo/g8</td>\n",
              "    </tr>\n",
              "    <tr>\n",
              "      <th>1</th>\n",
              "      <td>https://www.uniprot.org/uniprot/X3</td>\n",
              "      <td>http://purl.obolibrary.org/obo/GO_0008150</td>\n",
              "      <td>http://purl.obolibrary.org/obo/g4</td>\n",
              "    </tr>\n",
              "  </tbody>\n",
              "</table>\n",
              "</div>\n",
              "      <button class=\"colab-df-convert\" onclick=\"convertToInteractive('df-afe62aff-ff9a-4788-aa9d-1b314153ad5f')\"\n",
              "              title=\"Convert this dataframe to an interactive table.\"\n",
              "              style=\"display:none;\">\n",
              "        \n",
              "  <svg xmlns=\"http://www.w3.org/2000/svg\" height=\"24px\"viewBox=\"0 0 24 24\"\n",
              "       width=\"24px\">\n",
              "    <path d=\"M0 0h24v24H0V0z\" fill=\"none\"/>\n",
              "    <path d=\"M18.56 5.44l.94 2.06.94-2.06 2.06-.94-2.06-.94-.94-2.06-.94 2.06-2.06.94zm-11 1L8.5 8.5l.94-2.06 2.06-.94-2.06-.94L8.5 2.5l-.94 2.06-2.06.94zm10 10l.94 2.06.94-2.06 2.06-.94-2.06-.94-.94-2.06-.94 2.06-2.06.94z\"/><path d=\"M17.41 7.96l-1.37-1.37c-.4-.4-.92-.59-1.43-.59-.52 0-1.04.2-1.43.59L10.3 9.45l-7.72 7.72c-.78.78-.78 2.05 0 2.83L4 21.41c.39.39.9.59 1.41.59.51 0 1.02-.2 1.41-.59l7.78-7.78 2.81-2.81c.8-.78.8-2.07 0-2.86zM5.41 20L4 18.59l7.72-7.72 1.47 1.35L5.41 20z\"/>\n",
              "  </svg>\n",
              "      </button>\n",
              "      \n",
              "  <style>\n",
              "    .colab-df-container {\n",
              "      display:flex;\n",
              "      flex-wrap:wrap;\n",
              "      gap: 12px;\n",
              "    }\n",
              "\n",
              "    .colab-df-convert {\n",
              "      background-color: #E8F0FE;\n",
              "      border: none;\n",
              "      border-radius: 50%;\n",
              "      cursor: pointer;\n",
              "      display: none;\n",
              "      fill: #1967D2;\n",
              "      height: 32px;\n",
              "      padding: 0 0 0 0;\n",
              "      width: 32px;\n",
              "    }\n",
              "\n",
              "    .colab-df-convert:hover {\n",
              "      background-color: #E2EBFA;\n",
              "      box-shadow: 0px 1px 2px rgba(60, 64, 67, 0.3), 0px 1px 3px 1px rgba(60, 64, 67, 0.15);\n",
              "      fill: #174EA6;\n",
              "    }\n",
              "\n",
              "    [theme=dark] .colab-df-convert {\n",
              "      background-color: #3B4455;\n",
              "      fill: #D2E3FC;\n",
              "    }\n",
              "\n",
              "    [theme=dark] .colab-df-convert:hover {\n",
              "      background-color: #434B5C;\n",
              "      box-shadow: 0px 1px 3px 1px rgba(0, 0, 0, 0.15);\n",
              "      filter: drop-shadow(0px 1px 2px rgba(0, 0, 0, 0.3));\n",
              "      fill: #FFFFFF;\n",
              "    }\n",
              "  </style>\n",
              "\n",
              "      <script>\n",
              "        const buttonEl =\n",
              "          document.querySelector('#df-afe62aff-ff9a-4788-aa9d-1b314153ad5f button.colab-df-convert');\n",
              "        buttonEl.style.display =\n",
              "          google.colab.kernel.accessAllowed ? 'block' : 'none';\n",
              "\n",
              "        async function convertToInteractive(key) {\n",
              "          const element = document.querySelector('#df-afe62aff-ff9a-4788-aa9d-1b314153ad5f');\n",
              "          const dataTable =\n",
              "            await google.colab.kernel.invokeFunction('convertToInteractive',\n",
              "                                                     [key], {});\n",
              "          if (!dataTable) return;\n",
              "\n",
              "          const docLinkHtml = 'Like what you see? Visit the ' +\n",
              "            '<a target=\"_blank\" href=https://colab.research.google.com/notebooks/data_table.ipynb>data table notebook</a>'\n",
              "            + ' to learn more about interactive tables.';\n",
              "          element.innerHTML = '';\n",
              "          dataTable['output_type'] = 'display_data';\n",
              "          await google.colab.output.renderOutput(dataTable, element);\n",
              "          const docLink = document.createElement('div');\n",
              "          docLink.innerHTML = docLinkHtml;\n",
              "          element.appendChild(docLink);\n",
              "        }\n",
              "      </script>\n",
              "    </div>\n",
              "  </div>\n",
              "  "
            ],
            "text/plain": [
              "                                    0  \\\n",
              "0  https://www.uniprot.org/uniprot/X3   \n",
              "1  https://www.uniprot.org/uniprot/X3   \n",
              "\n",
              "                                           1  \\\n",
              "0  http://purl.obolibrary.org/obo/GO_0008150   \n",
              "1  http://purl.obolibrary.org/obo/GO_0008150   \n",
              "\n",
              "                                   2  \n",
              "0  http://purl.obolibrary.org/obo/g8  \n",
              "1  http://purl.obolibrary.org/obo/g4  "
            ]
          },
          "execution_count": 16,
          "metadata": {},
          "output_type": "execute_result"
        }
      ],
      "source": [
        "#split changed triples in V2 into two: test and valid sets\n",
        "#1/2 of data to be test and 1/2 valid\n",
        "test, valid = utils.split_test_valid(final_sc2_1)\n",
        "#txt file generate\n",
        "utils.txt_gen(SAVE_PATH+'test_sc2_l1.txt',test)\n",
        "utils.txt_gen(SAVE_PATH+'valid_sc2_l1.txt',valid)"
      ]
    },
    {
      "cell_type": "markdown",
      "metadata": {
        "id": "sTyYxd3MTS6s"
      },
      "source": [
        "**Second test and valid set case:** Level 1 & 2 hierarchical depth of implicit annotations for test and valid sets"
      ]
    },
    {
      "cell_type": "code",
      "execution_count": 17,
      "metadata": {
        "colab": {
          "base_uri": "https://localhost:8080/"
        },
        "id": "mynu67QHRoLb",
        "outputId": "c2b2ff34-1a68-4401-89ae-61ad758116cc"
      },
      "outputs": [
        {
          "name": "stderr",
          "output_type": "stream",
          "text": [
            "/usr/local/lib/python3.7/dist-packages/ipykernel_launcher.py:5: FutureWarning: In a future version of pandas all arguments of DataFrame.drop except for the argument 'labels' will be keyword-only\n",
            "  \"\"\"\n"
          ]
        }
      ],
      "source": [
        "#Level 2: Use levels as hyperparameters such as 1,2,3..\n",
        "#add level 1 and 2 hierarchical implicit annotations into test set\n",
        "diffv2_v1 = second_df.merge(\n",
        "    triple_df, how='outer', indicator=True\n",
        ").query('_merge == \"left_only\"').drop('_merge', 1)\n",
        "level2_data = utils.add_level2_semantic(graph_go, diffv2_v1, entities_v1, spec_version_v1)\n",
        "final_sc2_2 = utils.final_test_valid_sc2(triple_df,level2_data,graph_go)"
      ]
    },
    {
      "cell_type": "code",
      "execution_count": 18,
      "metadata": {
        "colab": {
          "base_uri": "https://localhost:8080/",
          "height": 142
        },
        "id": "3-EtvOOURyAj",
        "outputId": "bf8a3ee3-6c6a-4c55-f892-9432bd768fd7"
      },
      "outputs": [
        {
          "data": {
            "text/html": [
              "\n",
              "  <div id=\"df-e9c5dec5-b392-4779-9d4a-85acf2611e2f\">\n",
              "    <div class=\"colab-df-container\">\n",
              "      <div>\n",
              "<style scoped>\n",
              "    .dataframe tbody tr th:only-of-type {\n",
              "        vertical-align: middle;\n",
              "    }\n",
              "\n",
              "    .dataframe tbody tr th {\n",
              "        vertical-align: top;\n",
              "    }\n",
              "\n",
              "    .dataframe thead th {\n",
              "        text-align: right;\n",
              "    }\n",
              "</style>\n",
              "<table border=\"1\" class=\"dataframe\">\n",
              "  <thead>\n",
              "    <tr style=\"text-align: right;\">\n",
              "      <th></th>\n",
              "      <th>0</th>\n",
              "      <th>1</th>\n",
              "      <th>2</th>\n",
              "    </tr>\n",
              "  </thead>\n",
              "  <tbody>\n",
              "    <tr>\n",
              "      <th>0</th>\n",
              "      <td>https://www.uniprot.org/uniprot/X4</td>\n",
              "      <td>http://purl.obolibrary.org/obo/GO_0008150</td>\n",
              "      <td>http://purl.obolibrary.org/obo/g2</td>\n",
              "    </tr>\n",
              "    <tr>\n",
              "      <th>1</th>\n",
              "      <td>https://www.uniprot.org/uniprot/X3</td>\n",
              "      <td>http://purl.obolibrary.org/obo/GO_0008150</td>\n",
              "      <td>http://purl.obolibrary.org/obo/g2</td>\n",
              "    </tr>\n",
              "    <tr>\n",
              "      <th>2</th>\n",
              "      <td>https://www.uniprot.org/uniprot/X4</td>\n",
              "      <td>http://purl.obolibrary.org/obo/GO_0008150</td>\n",
              "      <td>http://purl.obolibrary.org/obo/g5</td>\n",
              "    </tr>\n",
              "  </tbody>\n",
              "</table>\n",
              "</div>\n",
              "      <button class=\"colab-df-convert\" onclick=\"convertToInteractive('df-e9c5dec5-b392-4779-9d4a-85acf2611e2f')\"\n",
              "              title=\"Convert this dataframe to an interactive table.\"\n",
              "              style=\"display:none;\">\n",
              "        \n",
              "  <svg xmlns=\"http://www.w3.org/2000/svg\" height=\"24px\"viewBox=\"0 0 24 24\"\n",
              "       width=\"24px\">\n",
              "    <path d=\"M0 0h24v24H0V0z\" fill=\"none\"/>\n",
              "    <path d=\"M18.56 5.44l.94 2.06.94-2.06 2.06-.94-2.06-.94-.94-2.06-.94 2.06-2.06.94zm-11 1L8.5 8.5l.94-2.06 2.06-.94-2.06-.94L8.5 2.5l-.94 2.06-2.06.94zm10 10l.94 2.06.94-2.06 2.06-.94-2.06-.94-.94-2.06-.94 2.06-2.06.94z\"/><path d=\"M17.41 7.96l-1.37-1.37c-.4-.4-.92-.59-1.43-.59-.52 0-1.04.2-1.43.59L10.3 9.45l-7.72 7.72c-.78.78-.78 2.05 0 2.83L4 21.41c.39.39.9.59 1.41.59.51 0 1.02-.2 1.41-.59l7.78-7.78 2.81-2.81c.8-.78.8-2.07 0-2.86zM5.41 20L4 18.59l7.72-7.72 1.47 1.35L5.41 20z\"/>\n",
              "  </svg>\n",
              "      </button>\n",
              "      \n",
              "  <style>\n",
              "    .colab-df-container {\n",
              "      display:flex;\n",
              "      flex-wrap:wrap;\n",
              "      gap: 12px;\n",
              "    }\n",
              "\n",
              "    .colab-df-convert {\n",
              "      background-color: #E8F0FE;\n",
              "      border: none;\n",
              "      border-radius: 50%;\n",
              "      cursor: pointer;\n",
              "      display: none;\n",
              "      fill: #1967D2;\n",
              "      height: 32px;\n",
              "      padding: 0 0 0 0;\n",
              "      width: 32px;\n",
              "    }\n",
              "\n",
              "    .colab-df-convert:hover {\n",
              "      background-color: #E2EBFA;\n",
              "      box-shadow: 0px 1px 2px rgba(60, 64, 67, 0.3), 0px 1px 3px 1px rgba(60, 64, 67, 0.15);\n",
              "      fill: #174EA6;\n",
              "    }\n",
              "\n",
              "    [theme=dark] .colab-df-convert {\n",
              "      background-color: #3B4455;\n",
              "      fill: #D2E3FC;\n",
              "    }\n",
              "\n",
              "    [theme=dark] .colab-df-convert:hover {\n",
              "      background-color: #434B5C;\n",
              "      box-shadow: 0px 1px 3px 1px rgba(0, 0, 0, 0.15);\n",
              "      filter: drop-shadow(0px 1px 2px rgba(0, 0, 0, 0.3));\n",
              "      fill: #FFFFFF;\n",
              "    }\n",
              "  </style>\n",
              "\n",
              "      <script>\n",
              "        const buttonEl =\n",
              "          document.querySelector('#df-e9c5dec5-b392-4779-9d4a-85acf2611e2f button.colab-df-convert');\n",
              "        buttonEl.style.display =\n",
              "          google.colab.kernel.accessAllowed ? 'block' : 'none';\n",
              "\n",
              "        async function convertToInteractive(key) {\n",
              "          const element = document.querySelector('#df-e9c5dec5-b392-4779-9d4a-85acf2611e2f');\n",
              "          const dataTable =\n",
              "            await google.colab.kernel.invokeFunction('convertToInteractive',\n",
              "                                                     [key], {});\n",
              "          if (!dataTable) return;\n",
              "\n",
              "          const docLinkHtml = 'Like what you see? Visit the ' +\n",
              "            '<a target=\"_blank\" href=https://colab.research.google.com/notebooks/data_table.ipynb>data table notebook</a>'\n",
              "            + ' to learn more about interactive tables.';\n",
              "          element.innerHTML = '';\n",
              "          dataTable['output_type'] = 'display_data';\n",
              "          await google.colab.output.renderOutput(dataTable, element);\n",
              "          const docLink = document.createElement('div');\n",
              "          docLink.innerHTML = docLinkHtml;\n",
              "          element.appendChild(docLink);\n",
              "        }\n",
              "      </script>\n",
              "    </div>\n",
              "  </div>\n",
              "  "
            ],
            "text/plain": [
              "                                    0  \\\n",
              "0  https://www.uniprot.org/uniprot/X4   \n",
              "1  https://www.uniprot.org/uniprot/X3   \n",
              "2  https://www.uniprot.org/uniprot/X4   \n",
              "\n",
              "                                           1  \\\n",
              "0  http://purl.obolibrary.org/obo/GO_0008150   \n",
              "1  http://purl.obolibrary.org/obo/GO_0008150   \n",
              "2  http://purl.obolibrary.org/obo/GO_0008150   \n",
              "\n",
              "                                   2  \n",
              "0  http://purl.obolibrary.org/obo/g2  \n",
              "1  http://purl.obolibrary.org/obo/g2  \n",
              "2  http://purl.obolibrary.org/obo/g5  "
            ]
          },
          "execution_count": 18,
          "metadata": {},
          "output_type": "execute_result"
        }
      ],
      "source": [
        "#split changed triples in V2 into two: test and valid sets\n",
        "#1/2 of data to be test and 1/2 valid\n",
        "test, valid = utils.split_test_valid(final_sc2_2)\n",
        "#txt file generate\n",
        "utils.txt_gen(SAVE_PATH+'test_sc2_l2.txt',test)\n",
        "utils.txt_gen(SAVE_PATH+'valid_sc2_l2.txt',valid)"
      ]
    }
  ],
  "metadata": {
    "colab": {
      "collapsed_sections": [],
      "provenance": []
    },
    "kernelspec": {
      "display_name": "Python 3",
      "name": "python3"
    },
    "language_info": {
      "name": "python"
    }
  },
  "nbformat": 4,
  "nbformat_minor": 0
}
